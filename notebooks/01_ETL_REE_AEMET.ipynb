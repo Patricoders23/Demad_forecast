{
 "cells": [
  {
   "cell_type": "code",
   "execution_count": null,
   "id": "d0b7d08d",
   "metadata": {},
   "outputs": [],
   "source": []
  },
  {
   "cell_type": "markdown",
   "id": "f8e17058",
   "metadata": {},
   "source": [
    "# Configuración del entorno"
   ]
  },
  {
   "cell_type": "code",
   "execution_count": 5,
   "id": "f1d2aaca",
   "metadata": {},
   "outputs": [
    {
     "name": "stdout",
     "output_type": "stream",
     "text": [
      "📁 Ruta añadida al path: /Users/leidygarciaguzman/engie_demand_forecast\n"
     ]
    }
   ],
   "source": [
    "import sys\n",
    "from pathlib import Path\n",
    "\n",
    "# Añadir la carpeta raíz del proyecto al path\n",
    "sys.path.append(str(Path.cwd().parent))\n",
    "\n",
    "# Verificación opcional\n",
    "print(\"📁 Ruta añadida al path:\", Path.cwd().parent)\n"
   ]
  },
  {
   "cell_type": "markdown",
   "id": "1c63f8e4",
   "metadata": {},
   "source": [
    "# Carga de variables de entorno (API Key)"
   ]
  },
  {
   "cell_type": "code",
   "execution_count": 6,
   "id": "96f6bd54",
   "metadata": {},
   "outputs": [
    {
     "name": "stdout",
     "output_type": "stream",
     "text": [
      "✅ API Key cargada correctamente: eyJhbGciOi********\n"
     ]
    }
   ],
   "source": [
    "from dotenv import load_dotenv\n",
    "import os\n",
    "\n",
    "# 🟡 Ruta real del .env desde la carpeta del notebook\n",
    "load_dotenv(dotenv_path=\"../visualizations/.env\")\n",
    "\n",
    "# Obtener la clave\n",
    "API_KEY = os.getenv(\"AEMET_API_KEY\")\n",
    "\n",
    "# Verificación\n",
    "if API_KEY:\n",
    "    print(\"✅ API Key cargada correctamente:\", API_KEY[:10] + \"********\")\n",
    "else:\n",
    "    print(\"❌ No se pudo cargar la API Key.\")\n"
   ]
  },
  {
   "cell_type": "markdown",
   "id": "59f452e6",
   "metadata": {},
   "source": [
    "# Definición de la función para consultar AEMET"
   ]
  },
  {
   "cell_type": "code",
   "execution_count": 7,
   "id": "72e3047d",
   "metadata": {},
   "outputs": [],
   "source": [
    "import requests\n",
    "import pandas as pd\n",
    "\n",
    "def get_aemet_weather(api_key: str, station_id: str, date: str) -> pd.DataFrame:\n",
    "    \"\"\"\n",
    "    Descarga los datos meteorológicos horarios para una estación de AEMET.\n",
    "    :param api_key: Clave API de AEMET\n",
    "    :param station_id: Código de estación (ej: '3195' para Madrid - Retiro)\n",
    "    :param date: Fecha en formato 'YYYY-MM-DD'\n",
    "    :return: DataFrame con datos horarios\n",
    "    \"\"\"\n",
    "    # Paso 1: URL de metadatos para obtener el enlace de descarga real\n",
    "    url = f\"https://opendata.aemet.es/opendata/api/observacion/convencional/datos/estacion/{station_id}/?api_key={api_key}\"\n",
    "\n",
    "    response = requests.get(url)\n",
    "    if response.status_code != 200:\n",
    "        raise Exception(f\"❌ Error en AEMET (paso metadatos): {response.status_code}\")\n",
    "\n",
    "    json_data = response.json()\n",
    "    data_url = json_data.get(\"datos\")\n",
    "\n",
    "    if not data_url:\n",
    "        raise Exception(\"❌ No se encontró la URL de descarga en la respuesta de AEMET.\")\n",
    "\n",
    "    # Paso 2: Descargar los datos desde esa URL\n",
    "    data_response = requests.get(data_url)\n",
    "    if data_response.status_code != 200:\n",
    "        raise Exception(f\"❌ Error al descargar datos: {data_response.status_code}\")\n",
    "\n",
    "    raw_data = data_response.json()\n",
    "    df = pd.DataFrame(raw_data)\n",
    "\n",
    "    # Filtrar por fecha\n",
    "    df = df[df['fint'].str.startswith(date)]\n",
    "\n",
    "    return df"
   ]
  },
  {
   "cell_type": "code",
   "execution_count": 8,
   "id": "4e0ee060",
   "metadata": {},
   "outputs": [
    {
     "name": "stderr",
     "output_type": "stream",
     "text": [
      "/Users/leidygarciaguzman/engie_demand_forecast/src/extract_aemet.py:34: FutureWarning: Passing literal json to 'read_json' is deprecated and will be removed in a future version. To read from a literal string, wrap it in a 'StringIO' object.\n",
      "  df = pd.read_json(data_response.text)\n"
     ]
    },
    {
     "data": {
      "text/html": [
       "<div>\n",
       "<style scoped>\n",
       "    .dataframe tbody tr th:only-of-type {\n",
       "        vertical-align: middle;\n",
       "    }\n",
       "\n",
       "    .dataframe tbody tr th {\n",
       "        vertical-align: top;\n",
       "    }\n",
       "\n",
       "    .dataframe thead th {\n",
       "        text-align: right;\n",
       "    }\n",
       "</style>\n",
       "<table border=\"1\" class=\"dataframe\">\n",
       "  <thead>\n",
       "    <tr style=\"text-align: right;\">\n",
       "      <th></th>\n",
       "      <th>fecha</th>\n",
       "      <th>indicativo</th>\n",
       "      <th>nombre</th>\n",
       "      <th>provincia</th>\n",
       "      <th>altitud</th>\n",
       "      <th>tmed</th>\n",
       "      <th>prec</th>\n",
       "      <th>tmin</th>\n",
       "      <th>horatmin</th>\n",
       "      <th>tmax</th>\n",
       "      <th>...</th>\n",
       "      <th>horaracha</th>\n",
       "      <th>presMax</th>\n",
       "      <th>horaPresMax</th>\n",
       "      <th>presMin</th>\n",
       "      <th>horaPresMin</th>\n",
       "      <th>hrMedia</th>\n",
       "      <th>hrMax</th>\n",
       "      <th>horaHrMax</th>\n",
       "      <th>hrMin</th>\n",
       "      <th>horaHrMin</th>\n",
       "    </tr>\n",
       "  </thead>\n",
       "  <tbody>\n",
       "    <tr>\n",
       "      <th>0</th>\n",
       "      <td>2024-07-01</td>\n",
       "      <td>3195</td>\n",
       "      <td>MADRID, RETIRO</td>\n",
       "      <td>MADRID</td>\n",
       "      <td>667</td>\n",
       "      <td>24,1</td>\n",
       "      <td>0,0</td>\n",
       "      <td>18,2</td>\n",
       "      <td>05:10</td>\n",
       "      <td>30,0</td>\n",
       "      <td>...</td>\n",
       "      <td>21:50</td>\n",
       "      <td>943,7</td>\n",
       "      <td>23</td>\n",
       "      <td>938,5</td>\n",
       "      <td>3</td>\n",
       "      <td>40</td>\n",
       "      <td>69</td>\n",
       "      <td>04:30</td>\n",
       "      <td>24</td>\n",
       "      <td>17:10</td>\n",
       "    </tr>\n",
       "  </tbody>\n",
       "</table>\n",
       "<p>1 rows × 24 columns</p>\n",
       "</div>"
      ],
      "text/plain": [
       "        fecha  indicativo          nombre provincia  altitud  tmed prec  tmin  \\\n",
       "0  2024-07-01        3195  MADRID, RETIRO    MADRID      667  24,1  0,0  18,2   \n",
       "\n",
       "  horatmin  tmax  ... horaracha  presMax horaPresMax presMin horaPresMin  \\\n",
       "0    05:10  30,0  ...     21:50    943,7          23   938,5           3   \n",
       "\n",
       "  hrMedia  hrMax horaHrMax  hrMin  horaHrMin  \n",
       "0      40     69     04:30     24      17:10  \n",
       "\n",
       "[1 rows x 24 columns]"
      ]
     },
     "execution_count": 8,
     "metadata": {},
     "output_type": "execute_result"
    }
   ],
   "source": [
    "from src.extract_aemet import get_aemet_weather\n",
    "\n",
    "df = get_aemet_weather(API_KEY, station_id=\"3195\", date=\"2024-07-01\")\n",
    "df.head(5)\n"
   ]
  },
  {
   "cell_type": "code",
   "execution_count": null,
   "id": "c55b5669",
   "metadata": {},
   "outputs": [],
   "source": []
  },
  {
   "cell_type": "code",
   "execution_count": 15,
   "id": "b425bfb9",
   "metadata": {},
   "outputs": [],
   "source": [
    "import pandas as pd\n",
    "import glob\n",
    "\n",
    "# Buscar los CSVs\n",
    "csv_files = glob.glob(\"../data/Custom-Report-2025-07-*.csv\")\n",
    "\n",
    "# Nombres de columnas esperadas\n",
    "column_names = [\"datetime\", \"real_mw\", \"forecast_mw\", \"scheduled_mw\"]\n",
    "\n",
    "# Leer los archivos con tolerancia a errores\n",
    "df_list = []\n",
    "for file in csv_files:\n",
    "    df = pd.read_csv(\n",
    "        file,\n",
    "        sep=\",\",\n",
    "        names=column_names,\n",
    "        skiprows=1,\n",
    "        encoding=\"latin-1\",\n",
    "        on_bad_lines='skip'  # <- Ignora líneas con problemas\n",
    "    )\n",
    "    df_list.append(df)\n",
    "\n",
    "# Unir todos los DataFrames\n",
    "df_ree = pd.concat(df_list, ignore_index=True)\n"
   ]
  },
  {
   "cell_type": "code",
   "execution_count": 17,
   "id": "5128f283",
   "metadata": {},
   "outputs": [
    {
     "name": "stderr",
     "output_type": "stream",
     "text": [
      "/var/folders/rl/7bt84j4j31gg1ssp767d9xgm0000gn/T/ipykernel_12093/2562031363.py:2: UserWarning: Could not infer format, so each element will be parsed individually, falling back to `dateutil`. To ensure parsing is consistent and as-expected, please specify a format.\n",
      "  df_ree['datetime'] = pd.to_datetime(df_ree['datetime'], errors='coerce')\n"
     ]
    },
    {
     "ename": "ValueError",
     "evalue": "could not convert string to float: 'Real'",
     "output_type": "error",
     "traceback": [
      "\u001b[31m---------------------------------------------------------------------------\u001b[39m",
      "\u001b[31mValueError\u001b[39m                                Traceback (most recent call last)",
      "\u001b[36mCell\u001b[39m\u001b[36m \u001b[39m\u001b[32mIn[17]\u001b[39m\u001b[32m, line 11\u001b[39m\n\u001b[32m      4\u001b[39m \u001b[38;5;66;03m# Limpiar comillas, comas y convertir a float\u001b[39;00m\n\u001b[32m      5\u001b[39m \u001b[38;5;28;01mfor\u001b[39;00m col \u001b[38;5;129;01min\u001b[39;00m [\u001b[33m'\u001b[39m\u001b[33mreal_mw\u001b[39m\u001b[33m'\u001b[39m, \u001b[33m'\u001b[39m\u001b[33mforecast_mw\u001b[39m\u001b[33m'\u001b[39m, \u001b[33m'\u001b[39m\u001b[33mscheduled_mw\u001b[39m\u001b[33m'\u001b[39m]:\n\u001b[32m      6\u001b[39m     df_ree[col] = (\n\u001b[32m      7\u001b[39m         \u001b[43mdf_ree\u001b[49m\u001b[43m[\u001b[49m\u001b[43mcol\u001b[49m\u001b[43m]\u001b[49m\n\u001b[32m      8\u001b[39m \u001b[43m        \u001b[49m\u001b[43m.\u001b[49m\u001b[43mastype\u001b[49m\u001b[43m(\u001b[49m\u001b[38;5;28;43mstr\u001b[39;49m\u001b[43m)\u001b[49m\n\u001b[32m      9\u001b[39m \u001b[43m        \u001b[49m\u001b[43m.\u001b[49m\u001b[43mstr\u001b[49m\u001b[43m.\u001b[49m\u001b[43mreplace\u001b[49m\u001b[43m(\u001b[49m\u001b[33;43m'\u001b[39;49m\u001b[33;43m\"\u001b[39;49m\u001b[33;43m'\u001b[39;49m\u001b[43m,\u001b[49m\u001b[43m \u001b[49m\u001b[33;43m'\u001b[39;49m\u001b[33;43m'\u001b[39;49m\u001b[43m,\u001b[49m\u001b[43m \u001b[49m\u001b[43mregex\u001b[49m\u001b[43m=\u001b[49m\u001b[38;5;28;43;01mFalse\u001b[39;49;00m\u001b[43m)\u001b[49m\n\u001b[32m     10\u001b[39m \u001b[43m        \u001b[49m\u001b[43m.\u001b[49m\u001b[43mstr\u001b[49m\u001b[43m.\u001b[49m\u001b[43mreplace\u001b[49m\u001b[43m(\u001b[49m\u001b[33;43m'\u001b[39;49m\u001b[33;43m,\u001b[39;49m\u001b[33;43m'\u001b[39;49m\u001b[43m,\u001b[49m\u001b[43m \u001b[49m\u001b[33;43m'\u001b[39;49m\u001b[33;43m'\u001b[39;49m\u001b[43m,\u001b[49m\u001b[43m \u001b[49m\u001b[43mregex\u001b[49m\u001b[43m=\u001b[49m\u001b[38;5;28;43;01mFalse\u001b[39;49;00m\u001b[43m)\u001b[49m\n\u001b[32m---> \u001b[39m\u001b[32m11\u001b[39m \u001b[43m        \u001b[49m\u001b[43m.\u001b[49m\u001b[43mastype\u001b[49m\u001b[43m(\u001b[49m\u001b[38;5;28;43mfloat\u001b[39;49m\u001b[43m)\u001b[49m\n\u001b[32m     12\u001b[39m     )\n\u001b[32m     14\u001b[39m \u001b[38;5;66;03m# Ver las primeras filas para revisar\u001b[39;00m\n\u001b[32m     15\u001b[39m df_ree.head()\n",
      "\u001b[36mFile \u001b[39m\u001b[32m~/engie_demand_forecast/venv/lib/python3.12/site-packages/pandas/core/generic.py:6662\u001b[39m, in \u001b[36mNDFrame.astype\u001b[39m\u001b[34m(self, dtype, copy, errors)\u001b[39m\n\u001b[32m   6656\u001b[39m     results = [\n\u001b[32m   6657\u001b[39m         ser.astype(dtype, copy=copy, errors=errors) \u001b[38;5;28;01mfor\u001b[39;00m _, ser \u001b[38;5;129;01min\u001b[39;00m \u001b[38;5;28mself\u001b[39m.items()\n\u001b[32m   6658\u001b[39m     ]\n\u001b[32m   6660\u001b[39m \u001b[38;5;28;01melse\u001b[39;00m:\n\u001b[32m   6661\u001b[39m     \u001b[38;5;66;03m# else, only a single dtype is given\u001b[39;00m\n\u001b[32m-> \u001b[39m\u001b[32m6662\u001b[39m     new_data = \u001b[38;5;28;43mself\u001b[39;49m\u001b[43m.\u001b[49m\u001b[43m_mgr\u001b[49m\u001b[43m.\u001b[49m\u001b[43mastype\u001b[49m\u001b[43m(\u001b[49m\u001b[43mdtype\u001b[49m\u001b[43m=\u001b[49m\u001b[43mdtype\u001b[49m\u001b[43m,\u001b[49m\u001b[43m \u001b[49m\u001b[43mcopy\u001b[49m\u001b[43m=\u001b[49m\u001b[43mcopy\u001b[49m\u001b[43m,\u001b[49m\u001b[43m \u001b[49m\u001b[43merrors\u001b[49m\u001b[43m=\u001b[49m\u001b[43merrors\u001b[49m\u001b[43m)\u001b[49m\n\u001b[32m   6663\u001b[39m     res = \u001b[38;5;28mself\u001b[39m._constructor_from_mgr(new_data, axes=new_data.axes)\n\u001b[32m   6664\u001b[39m     \u001b[38;5;28;01mreturn\u001b[39;00m res.__finalize__(\u001b[38;5;28mself\u001b[39m, method=\u001b[33m\"\u001b[39m\u001b[33mastype\u001b[39m\u001b[33m\"\u001b[39m)\n",
      "\u001b[36mFile \u001b[39m\u001b[32m~/engie_demand_forecast/venv/lib/python3.12/site-packages/pandas/core/internals/managers.py:430\u001b[39m, in \u001b[36mBaseBlockManager.astype\u001b[39m\u001b[34m(self, dtype, copy, errors)\u001b[39m\n\u001b[32m    427\u001b[39m \u001b[38;5;28;01melif\u001b[39;00m using_copy_on_write():\n\u001b[32m    428\u001b[39m     copy = \u001b[38;5;28;01mFalse\u001b[39;00m\n\u001b[32m--> \u001b[39m\u001b[32m430\u001b[39m \u001b[38;5;28;01mreturn\u001b[39;00m \u001b[38;5;28;43mself\u001b[39;49m\u001b[43m.\u001b[49m\u001b[43mapply\u001b[49m\u001b[43m(\u001b[49m\n\u001b[32m    431\u001b[39m \u001b[43m    \u001b[49m\u001b[33;43m\"\u001b[39;49m\u001b[33;43mastype\u001b[39;49m\u001b[33;43m\"\u001b[39;49m\u001b[43m,\u001b[49m\n\u001b[32m    432\u001b[39m \u001b[43m    \u001b[49m\u001b[43mdtype\u001b[49m\u001b[43m=\u001b[49m\u001b[43mdtype\u001b[49m\u001b[43m,\u001b[49m\n\u001b[32m    433\u001b[39m \u001b[43m    \u001b[49m\u001b[43mcopy\u001b[49m\u001b[43m=\u001b[49m\u001b[43mcopy\u001b[49m\u001b[43m,\u001b[49m\n\u001b[32m    434\u001b[39m \u001b[43m    \u001b[49m\u001b[43merrors\u001b[49m\u001b[43m=\u001b[49m\u001b[43merrors\u001b[49m\u001b[43m,\u001b[49m\n\u001b[32m    435\u001b[39m \u001b[43m    \u001b[49m\u001b[43musing_cow\u001b[49m\u001b[43m=\u001b[49m\u001b[43musing_copy_on_write\u001b[49m\u001b[43m(\u001b[49m\u001b[43m)\u001b[49m\u001b[43m,\u001b[49m\n\u001b[32m    436\u001b[39m \u001b[43m\u001b[49m\u001b[43m)\u001b[49m\n",
      "\u001b[36mFile \u001b[39m\u001b[32m~/engie_demand_forecast/venv/lib/python3.12/site-packages/pandas/core/internals/managers.py:363\u001b[39m, in \u001b[36mBaseBlockManager.apply\u001b[39m\u001b[34m(self, f, align_keys, **kwargs)\u001b[39m\n\u001b[32m    361\u001b[39m         applied = b.apply(f, **kwargs)\n\u001b[32m    362\u001b[39m     \u001b[38;5;28;01melse\u001b[39;00m:\n\u001b[32m--> \u001b[39m\u001b[32m363\u001b[39m         applied = \u001b[38;5;28;43mgetattr\u001b[39;49m\u001b[43m(\u001b[49m\u001b[43mb\u001b[49m\u001b[43m,\u001b[49m\u001b[43m \u001b[49m\u001b[43mf\u001b[49m\u001b[43m)\u001b[49m\u001b[43m(\u001b[49m\u001b[43m*\u001b[49m\u001b[43m*\u001b[49m\u001b[43mkwargs\u001b[49m\u001b[43m)\u001b[49m\n\u001b[32m    364\u001b[39m     result_blocks = extend_blocks(applied, result_blocks)\n\u001b[32m    366\u001b[39m out = \u001b[38;5;28mtype\u001b[39m(\u001b[38;5;28mself\u001b[39m).from_blocks(result_blocks, \u001b[38;5;28mself\u001b[39m.axes)\n",
      "\u001b[36mFile \u001b[39m\u001b[32m~/engie_demand_forecast/venv/lib/python3.12/site-packages/pandas/core/internals/blocks.py:784\u001b[39m, in \u001b[36mBlock.astype\u001b[39m\u001b[34m(self, dtype, copy, errors, using_cow, squeeze)\u001b[39m\n\u001b[32m    781\u001b[39m         \u001b[38;5;28;01mraise\u001b[39;00m \u001b[38;5;167;01mValueError\u001b[39;00m(\u001b[33m\"\u001b[39m\u001b[33mCan not squeeze with more than one column.\u001b[39m\u001b[33m\"\u001b[39m)\n\u001b[32m    782\u001b[39m     values = values[\u001b[32m0\u001b[39m, :]  \u001b[38;5;66;03m# type: ignore[call-overload]\u001b[39;00m\n\u001b[32m--> \u001b[39m\u001b[32m784\u001b[39m new_values = \u001b[43mastype_array_safe\u001b[49m\u001b[43m(\u001b[49m\u001b[43mvalues\u001b[49m\u001b[43m,\u001b[49m\u001b[43m \u001b[49m\u001b[43mdtype\u001b[49m\u001b[43m,\u001b[49m\u001b[43m \u001b[49m\u001b[43mcopy\u001b[49m\u001b[43m=\u001b[49m\u001b[43mcopy\u001b[49m\u001b[43m,\u001b[49m\u001b[43m \u001b[49m\u001b[43merrors\u001b[49m\u001b[43m=\u001b[49m\u001b[43merrors\u001b[49m\u001b[43m)\u001b[49m\n\u001b[32m    786\u001b[39m new_values = maybe_coerce_values(new_values)\n\u001b[32m    788\u001b[39m refs = \u001b[38;5;28;01mNone\u001b[39;00m\n",
      "\u001b[36mFile \u001b[39m\u001b[32m~/engie_demand_forecast/venv/lib/python3.12/site-packages/pandas/core/dtypes/astype.py:237\u001b[39m, in \u001b[36mastype_array_safe\u001b[39m\u001b[34m(values, dtype, copy, errors)\u001b[39m\n\u001b[32m    234\u001b[39m     dtype = dtype.numpy_dtype\n\u001b[32m    236\u001b[39m \u001b[38;5;28;01mtry\u001b[39;00m:\n\u001b[32m--> \u001b[39m\u001b[32m237\u001b[39m     new_values = \u001b[43mastype_array\u001b[49m\u001b[43m(\u001b[49m\u001b[43mvalues\u001b[49m\u001b[43m,\u001b[49m\u001b[43m \u001b[49m\u001b[43mdtype\u001b[49m\u001b[43m,\u001b[49m\u001b[43m \u001b[49m\u001b[43mcopy\u001b[49m\u001b[43m=\u001b[49m\u001b[43mcopy\u001b[49m\u001b[43m)\u001b[49m\n\u001b[32m    238\u001b[39m \u001b[38;5;28;01mexcept\u001b[39;00m (\u001b[38;5;167;01mValueError\u001b[39;00m, \u001b[38;5;167;01mTypeError\u001b[39;00m):\n\u001b[32m    239\u001b[39m     \u001b[38;5;66;03m# e.g. _astype_nansafe can fail on object-dtype of strings\u001b[39;00m\n\u001b[32m    240\u001b[39m     \u001b[38;5;66;03m#  trying to convert to float\u001b[39;00m\n\u001b[32m    241\u001b[39m     \u001b[38;5;28;01mif\u001b[39;00m errors == \u001b[33m\"\u001b[39m\u001b[33mignore\u001b[39m\u001b[33m\"\u001b[39m:\n",
      "\u001b[36mFile \u001b[39m\u001b[32m~/engie_demand_forecast/venv/lib/python3.12/site-packages/pandas/core/dtypes/astype.py:182\u001b[39m, in \u001b[36mastype_array\u001b[39m\u001b[34m(values, dtype, copy)\u001b[39m\n\u001b[32m    179\u001b[39m     values = values.astype(dtype, copy=copy)\n\u001b[32m    181\u001b[39m \u001b[38;5;28;01melse\u001b[39;00m:\n\u001b[32m--> \u001b[39m\u001b[32m182\u001b[39m     values = \u001b[43m_astype_nansafe\u001b[49m\u001b[43m(\u001b[49m\u001b[43mvalues\u001b[49m\u001b[43m,\u001b[49m\u001b[43m \u001b[49m\u001b[43mdtype\u001b[49m\u001b[43m,\u001b[49m\u001b[43m \u001b[49m\u001b[43mcopy\u001b[49m\u001b[43m=\u001b[49m\u001b[43mcopy\u001b[49m\u001b[43m)\u001b[49m\n\u001b[32m    184\u001b[39m \u001b[38;5;66;03m# in pandas we don't store numpy str dtypes, so convert to object\u001b[39;00m\n\u001b[32m    185\u001b[39m \u001b[38;5;28;01mif\u001b[39;00m \u001b[38;5;28misinstance\u001b[39m(dtype, np.dtype) \u001b[38;5;129;01mand\u001b[39;00m \u001b[38;5;28missubclass\u001b[39m(values.dtype.type, \u001b[38;5;28mstr\u001b[39m):\n",
      "\u001b[36mFile \u001b[39m\u001b[32m~/engie_demand_forecast/venv/lib/python3.12/site-packages/pandas/core/dtypes/astype.py:133\u001b[39m, in \u001b[36m_astype_nansafe\u001b[39m\u001b[34m(arr, dtype, copy, skipna)\u001b[39m\n\u001b[32m    129\u001b[39m     \u001b[38;5;28;01mraise\u001b[39;00m \u001b[38;5;167;01mValueError\u001b[39;00m(msg)\n\u001b[32m    131\u001b[39m \u001b[38;5;28;01mif\u001b[39;00m copy \u001b[38;5;129;01mor\u001b[39;00m arr.dtype == \u001b[38;5;28mobject\u001b[39m \u001b[38;5;129;01mor\u001b[39;00m dtype == \u001b[38;5;28mobject\u001b[39m:\n\u001b[32m    132\u001b[39m     \u001b[38;5;66;03m# Explicit copy, or required since NumPy can't view from / to object.\u001b[39;00m\n\u001b[32m--> \u001b[39m\u001b[32m133\u001b[39m     \u001b[38;5;28;01mreturn\u001b[39;00m \u001b[43marr\u001b[49m\u001b[43m.\u001b[49m\u001b[43mastype\u001b[49m\u001b[43m(\u001b[49m\u001b[43mdtype\u001b[49m\u001b[43m,\u001b[49m\u001b[43m \u001b[49m\u001b[43mcopy\u001b[49m\u001b[43m=\u001b[49m\u001b[38;5;28;43;01mTrue\u001b[39;49;00m\u001b[43m)\u001b[49m\n\u001b[32m    135\u001b[39m \u001b[38;5;28;01mreturn\u001b[39;00m arr.astype(dtype, copy=copy)\n",
      "\u001b[31mValueError\u001b[39m: could not convert string to float: 'Real'"
     ]
    }
   ],
   "source": [
    "# Convertir datetime\n",
    "df_ree['datetime'] = pd.to_datetime(df_ree['datetime'], errors='coerce')\n",
    "\n",
    "# Limpiar comillas, comas y convertir a float\n",
    "for col in ['real_mw', 'forecast_mw', 'scheduled_mw']:\n",
    "    df_ree[col] = (\n",
    "        df_ree[col]\n",
    "        .astype(str)\n",
    "        .str.replace('\"', '', regex=False)\n",
    "        .str.replace(',', '', regex=False)\n",
    "        .astype(float)\n",
    "    )\n",
    "\n",
    "# Ver las primeras filas para revisar\n",
    "df_ree.head()\n"
   ]
  },
  {
   "cell_type": "code",
   "execution_count": 16,
   "id": "e967f51b",
   "metadata": {},
   "outputs": [
    {
     "name": "stdout",
     "output_type": "stream",
     "text": [
      "  datetime real_mw forecast_mw scheduled_mw\n",
      "0     Hora    Real    Prevista   Programada\n",
      "1     Hora    Real    Prevista   Programada\n",
      "2     Hora    Real    Prevista   Programada\n",
      "3     Hora    Real    Prevista   Programada\n",
      "4     Hora    Real    Prevista   Programada\n",
      "Número de filas: 7\n",
      "Número de columnas: 4\n",
      "Columnas: ['datetime', 'real_mw', 'forecast_mw', 'scheduled_mw']\n",
      "Tipos de datos:\n",
      "datetime        object\n",
      "real_mw         object\n",
      "forecast_mw     object\n",
      "scheduled_mw    object\n",
      "dtype: object\n",
      "Primeras filas:\n"
     ]
    }
   ],
   "source": [
    "print(df_ree.head(5))\n",
    "print(\"Número de filas:\", len(df_ree))\n",
    "print(\"Número de columnas:\", len(df_ree.columns))\n",
    "print(\"Columnas:\", df_ree.columns.tolist())\n",
    "print(\"Tipos de datos:\")\n",
    "print(df_ree.dtypes)\n",
    "print(\"Primeras filas:\")"
   ]
  }
 ],
 "metadata": {
  "kernelspec": {
   "display_name": "venv",
   "language": "python",
   "name": "python3"
  },
  "language_info": {
   "codemirror_mode": {
    "name": "ipython",
    "version": 3
   },
   "file_extension": ".py",
   "mimetype": "text/x-python",
   "name": "python",
   "nbconvert_exporter": "python",
   "pygments_lexer": "ipython3",
   "version": "3.12.2"
  }
 },
 "nbformat": 4,
 "nbformat_minor": 5
}
